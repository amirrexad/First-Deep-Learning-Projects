{
  "nbformat": 4,
  "nbformat_minor": 0,
  "metadata": {
    "colab": {
      "provenance": [],
      "gpuType": "T4",
      "authorship_tag": "ABX9TyMb+zSMzlhPdT1dcD9gBYfI",
      "include_colab_link": true
    },
    "kernelspec": {
      "name": "python3",
      "display_name": "Python 3"
    },
    "language_info": {
      "name": "python"
    },
    "accelerator": "GPU"
  },
  "cells": [
    {
      "cell_type": "markdown",
      "metadata": {
        "id": "view-in-github",
        "colab_type": "text"
      },
      "source": [
        "<a href=\"https://colab.research.google.com/github/amirrexad/First-Deep-Learning-Projects/blob/main/ANN.ipynb\" target=\"_parent\"><img src=\"https://colab.research.google.com/assets/colab-badge.svg\" alt=\"Open In Colab\"/></a>"
      ]
    },
    {
      "cell_type": "code",
      "execution_count": 34,
      "metadata": {
        "colab": {
          "base_uri": "https://localhost:8080/"
        },
        "id": "7Ut2jofdVTNR",
        "outputId": "06a6991d-6fb4-4f52-f1c5-5c57fcfed207"
      },
      "outputs": [
        {
          "output_type": "execute_result",
          "data": {
            "text/plain": [
              "True"
            ]
          },
          "metadata": {},
          "execution_count": 34
        }
      ],
      "source": [
        "import torch\n",
        "torch.cuda.is_available()"
      ]
    },
    {
      "cell_type": "code",
      "source": [
        "device = \"cpu\"\n",
        "if torch.cuda.is_available(): device = \"cuda\"\n",
        "\n",
        "print(device)"
      ],
      "metadata": {
        "colab": {
          "base_uri": "https://localhost:8080/"
        },
        "id": "2VU2MvawWotj",
        "outputId": "1861b088-5fc8-48b9-efe4-6311c958b8fb"
      },
      "execution_count": 35,
      "outputs": [
        {
          "output_type": "stream",
          "name": "stdout",
          "text": [
            "cuda\n"
          ]
        }
      ]
    },
    {
      "cell_type": "markdown",
      "source": [
        "Define the ANN class"
      ],
      "metadata": {
        "id": "ezDHUSIXZU1s"
      }
    },
    {
      "cell_type": "code",
      "source": [
        "from torch import nn\n",
        "\n",
        "class Network(nn.Module):\n",
        "  def __init__(self, v, w):\n",
        "    super().__init__()\n",
        "    self.n = v\n",
        "    self.m = w\n",
        "  def forward(self, x, y):\n",
        "    if x > y:\n",
        "      return self.n\n",
        "    else:\n",
        "      return self.m\n",
        "\n",
        "model = Network(7, 8)\n",
        "model(5, 6)\n",
        "\n",
        "\n"
      ],
      "metadata": {
        "colab": {
          "base_uri": "https://localhost:8080/"
        },
        "id": "XiVDakB7XzTg",
        "outputId": "6db3f558-f841-427f-83ab-5a4f953adcd0"
      },
      "execution_count": 36,
      "outputs": [
        {
          "output_type": "execute_result",
          "data": {
            "text/plain": [
              "8"
            ]
          },
          "metadata": {},
          "execution_count": 36
        }
      ]
    },
    {
      "cell_type": "code",
      "source": [
        "x = [[8,1,10,1,3],\n",
        "     [18,0,2,0,0],\n",
        "     [2,0,20,0,0],\n",
        "     [10,1,6,0,1],\n",
        "     [20,1,7,1,1],\n",
        "     [15,1,9,0,0],\n",
        "     [30,0,5,1,1],\n",
        "     [4,0,10,1,1],\n",
        "     [24,0,15,0,2],\n",
        "     [4,1,15,1,5],\n",
        "     [40,0,1,0,0]]\n",
        "\n",
        "y = [[15.6],[18.5],[13.5],[13.6],[16],[14.35],[12],[18.9],[17],[17.4],[16]]\n"
      ],
      "metadata": {
        "id": "mQW0n0486Y77"
      },
      "execution_count": 37,
      "outputs": []
    },
    {
      "cell_type": "code",
      "source": [
        "class ANN(nn.Module):\n",
        "  def __init__(self):\n",
        "    super().__init__()\n",
        "    self.layers = nn.Sequential(\n",
        "        nn.Linear(5,8),\n",
        "        nn.ReLU(),\n",
        "        nn.Linear(8,4),\n",
        "        nn.ReLU(),\n",
        "        nn.Linear(4,1)\n",
        "    )\n",
        "  def forward(self, x):\n",
        "    return self.layers(x)"
      ],
      "metadata": {
        "id": "WTZZGhWlenP9"
      },
      "execution_count": 38,
      "outputs": []
    },
    {
      "cell_type": "code",
      "source": [
        "x = torch.tensor(x, dtype=torch.float32)\n",
        "y = torch.tensor(y, dtype=torch.float32)\n",
        "\n",
        "x.shape\n"
      ],
      "metadata": {
        "colab": {
          "base_uri": "https://localhost:8080/"
        },
        "id": "tM7yIXG37w7j",
        "outputId": "3f15b213-d4f9-4435-843d-06ad65aec346"
      },
      "execution_count": 39,
      "outputs": [
        {
          "output_type": "execute_result",
          "data": {
            "text/plain": [
              "torch.Size([11, 5])"
            ]
          },
          "metadata": {},
          "execution_count": 39
        }
      ]
    },
    {
      "cell_type": "code",
      "source": [
        "model = ANN()\n",
        "model(x)"
      ],
      "metadata": {
        "colab": {
          "base_uri": "https://localhost:8080/"
        },
        "id": "ZxGyY-lV_VX4",
        "outputId": "70fdf159-927e-41fc-de96-60b8a1305089"
      },
      "execution_count": 40,
      "outputs": [
        {
          "output_type": "execute_result",
          "data": {
            "text/plain": [
              "tensor([[ 0.2476],\n",
              "        [ 0.1765],\n",
              "        [ 0.0373],\n",
              "        [ 0.2872],\n",
              "        [ 0.3478],\n",
              "        [ 0.3453],\n",
              "        [ 0.1242],\n",
              "        [ 0.2256],\n",
              "        [ 0.3583],\n",
              "        [ 0.1832],\n",
              "        [-0.1230]], grad_fn=<AddmmBackward0>)"
            ]
          },
          "metadata": {},
          "execution_count": 40
        }
      ]
    },
    {
      "cell_type": "markdown",
      "source": [
        "Loss func & Optimizer"
      ],
      "metadata": {
        "id": "phHfBuNy_7su"
      }
    },
    {
      "cell_type": "code",
      "source": [
        "for i in test.parameters():\n",
        "  print(i)\n",
        "  print(\"-\"*10)"
      ],
      "metadata": {
        "colab": {
          "base_uri": "https://localhost:8080/"
        },
        "id": "9WYnXA8x_uSa",
        "outputId": "c340b7e6-d3f7-4bce-aa7a-a6830c21e9d2"
      },
      "execution_count": 41,
      "outputs": [
        {
          "output_type": "stream",
          "name": "stdout",
          "text": [
            "Parameter containing:\n",
            "tensor([[ 0.3670, -0.2153,  0.1752, -0.4171, -0.4138],\n",
            "        [-0.1450, -0.3695,  0.2509, -0.3077,  0.3961],\n",
            "        [ 0.0643,  0.1908, -0.2193,  0.2705,  0.3434]], requires_grad=True)\n",
            "----------\n",
            "Parameter containing:\n",
            "tensor([ 0.2577,  0.1578, -0.2068], requires_grad=True)\n",
            "----------\n",
            "Parameter containing:\n",
            "tensor([[-0.0690,  0.3680, -0.4967]], requires_grad=True)\n",
            "----------\n",
            "Parameter containing:\n",
            "tensor([-0.3725], requires_grad=True)\n",
            "----------\n"
          ]
        }
      ]
    },
    {
      "cell_type": "code",
      "source": [
        "criterion = nn.MSELoss()\n",
        "optimizer = torch.optim.Adam(model.parameters(), lr=0.001)"
      ],
      "metadata": {
        "id": "LY7AXh-i_vAg"
      },
      "execution_count": 44,
      "outputs": []
    },
    {
      "cell_type": "markdown",
      "source": [
        "Training loops"
      ],
      "metadata": {
        "id": "YuWLgm4xEwrI"
      }
    },
    {
      "cell_type": "code",
      "source": [
        "epoch = 5000\n",
        "for i in range(epoch):\n",
        "  # step 1: Reset grad\n",
        "  ## reset the whole 89 w & b:\n",
        "  optimizer.zero_grad()\n",
        "\n",
        "  # step 2: Feed-forward\n",
        "  y_hat = model(x)\n",
        "\n",
        "  # step 3: Compute the loss\n",
        "  loss = criterion(y_hat, y)\n",
        "\n",
        "  # step 4: Backpropagation\n",
        "  loss.backward()\n",
        "\n",
        "  # step 5: Update parameters (w & b)\n",
        "  optimizer.step()\n",
        "\n",
        "  if i%50==0:\n",
        "    print(f\"epoch: {i} / loss: {loss.item()}\")\n"
      ],
      "metadata": {
        "colab": {
          "base_uri": "https://localhost:8080/"
        },
        "id": "rn33jFo3_vbr",
        "outputId": "81cbe41b-8157-4d7e-fdb0-49ee72f8664f"
      },
      "execution_count": 49,
      "outputs": [
        {
          "output_type": "stream",
          "name": "stdout",
          "text": [
            "epoch: 0 / loss: 15.813307762145996\n",
            "epoch: 50 / loss: 15.490616798400879\n",
            "epoch: 100 / loss: 15.159612655639648\n",
            "epoch: 150 / loss: 14.81875228881836\n",
            "epoch: 200 / loss: 14.470635414123535\n",
            "epoch: 250 / loss: 14.115670204162598\n",
            "epoch: 300 / loss: 13.757454872131348\n",
            "epoch: 350 / loss: 13.39914321899414\n",
            "epoch: 400 / loss: 13.04504680633545\n",
            "epoch: 450 / loss: 12.695903778076172\n",
            "epoch: 500 / loss: 12.351058959960938\n",
            "epoch: 550 / loss: 12.00858211517334\n",
            "epoch: 600 / loss: 11.665289878845215\n",
            "epoch: 650 / loss: 11.312309265136719\n",
            "epoch: 700 / loss: 10.94564151763916\n",
            "epoch: 750 / loss: 10.565115928649902\n",
            "epoch: 800 / loss: 10.170241355895996\n",
            "epoch: 850 / loss: 9.761980056762695\n",
            "epoch: 900 / loss: 9.335272789001465\n",
            "epoch: 950 / loss: 8.77145767211914\n",
            "epoch: 1000 / loss: 8.13433837890625\n",
            "epoch: 1050 / loss: 7.419848442077637\n",
            "epoch: 1100 / loss: 6.698198318481445\n",
            "epoch: 1150 / loss: 5.9546895027160645\n",
            "epoch: 1200 / loss: 5.139286994934082\n",
            "epoch: 1250 / loss: 4.357664108276367\n",
            "epoch: 1300 / loss: 3.6504557132720947\n",
            "epoch: 1350 / loss: 3.0307767391204834\n",
            "epoch: 1400 / loss: 2.497239112854004\n",
            "epoch: 1450 / loss: 2.053051710128784\n",
            "epoch: 1500 / loss: 1.6936900615692139\n",
            "epoch: 1550 / loss: 1.392421841621399\n",
            "epoch: 1600 / loss: 1.1362978219985962\n",
            "epoch: 1650 / loss: 0.9203123450279236\n",
            "epoch: 1700 / loss: 0.7389262914657593\n",
            "epoch: 1750 / loss: 0.5972951054573059\n",
            "epoch: 1800 / loss: 0.4768320322036743\n",
            "epoch: 1850 / loss: 0.37888193130493164\n",
            "epoch: 1900 / loss: 0.29790422320365906\n",
            "epoch: 1950 / loss: 0.23331065475940704\n",
            "epoch: 2000 / loss: 0.18122780323028564\n",
            "epoch: 2050 / loss: 0.14086425304412842\n",
            "epoch: 2100 / loss: 0.1080331802368164\n",
            "epoch: 2150 / loss: 0.08045637607574463\n",
            "epoch: 2200 / loss: 0.06063162162899971\n",
            "epoch: 2250 / loss: 0.04535899683833122\n",
            "epoch: 2300 / loss: 0.03331533819437027\n",
            "epoch: 2350 / loss: 0.024767739698290825\n",
            "epoch: 2400 / loss: 0.018105460330843925\n",
            "epoch: 2450 / loss: 0.013374347239732742\n",
            "epoch: 2500 / loss: 0.009724896401166916\n",
            "epoch: 2550 / loss: 0.006996937561780214\n",
            "epoch: 2600 / loss: 0.0050527313724160194\n",
            "epoch: 2650 / loss: 0.0036120822187513113\n",
            "epoch: 2700 / loss: 0.002572510624304414\n",
            "epoch: 2750 / loss: 0.0018534156261011958\n",
            "epoch: 2800 / loss: 0.0012919227592647076\n",
            "epoch: 2850 / loss: 0.0009011125075630844\n",
            "epoch: 2900 / loss: 0.0006227211561053991\n",
            "epoch: 2950 / loss: 0.000428768340498209\n",
            "epoch: 3000 / loss: 0.0002912354248110205\n",
            "epoch: 3050 / loss: 0.0001950713194673881\n",
            "epoch: 3100 / loss: 0.00013019764446653426\n",
            "epoch: 3150 / loss: 8.619144500698894e-05\n",
            "epoch: 3200 / loss: 5.61822707823012e-05\n",
            "epoch: 3250 / loss: 3.6389552406035364e-05\n",
            "epoch: 3300 / loss: 2.307485010533128e-05\n",
            "epoch: 3350 / loss: 1.4564592675014865e-05\n",
            "epoch: 3400 / loss: 9.089664672501385e-06\n",
            "epoch: 3450 / loss: 5.591254648606991e-06\n",
            "epoch: 3500 / loss: 3.384041519893799e-06\n",
            "epoch: 3550 / loss: 2.031887333941995e-06\n",
            "epoch: 3600 / loss: 1.1904231769221951e-06\n",
            "epoch: 3650 / loss: 6.943994321773062e-07\n",
            "epoch: 3700 / loss: 4.0027043723966926e-07\n",
            "epoch: 3750 / loss: 2.24725141606541e-07\n",
            "epoch: 3800 / loss: 1.2554623651794827e-07\n",
            "epoch: 3850 / loss: 6.81195828633463e-08\n",
            "epoch: 3900 / loss: 3.677483917385871e-08\n",
            "epoch: 3950 / loss: 1.934792948077302e-08\n",
            "epoch: 4000 / loss: 1.0183446974565413e-08\n",
            "epoch: 4050 / loss: 5.379826362172935e-09\n",
            "epoch: 4100 / loss: 2.999182902030384e-09\n",
            "epoch: 4150 / loss: 1.6345272912943187e-09\n",
            "epoch: 4200 / loss: 9.31405286230813e-10\n",
            "epoch: 4250 / loss: 5.788520218708015e-10\n",
            "epoch: 4300 / loss: 3.6230962674466127e-10\n",
            "epoch: 4350 / loss: 2.4200827453135787e-10\n",
            "epoch: 4400 / loss: 1.725559556353673e-10\n",
            "epoch: 4450 / loss: 1.266678012479261e-10\n",
            "epoch: 4500 / loss: 1.0508797998465269e-10\n",
            "epoch: 4550 / loss: 9.607570988778846e-11\n",
            "epoch: 4600 / loss: 6.672384172956569e-11\n",
            "epoch: 4650 / loss: 5.928251639586435e-11\n",
            "epoch: 4700 / loss: 5.0518297878276996e-11\n",
            "epoch: 4750 / loss: 3.6462468461229136e-11\n",
            "epoch: 4800 / loss: 3.95216775972429e-11\n",
            "epoch: 4850 / loss: 2.587925880537245e-11\n",
            "epoch: 4900 / loss: 2.64580284764504e-11\n",
            "epoch: 4950 / loss: 1.7776486879728104e-11\n"
          ]
        }
      ]
    },
    {
      "cell_type": "code",
      "source": [
        "model(x)"
      ],
      "metadata": {
        "colab": {
          "base_uri": "https://localhost:8080/"
        },
        "id": "FLWVwU19MB1s",
        "outputId": "02c09599-037d-446f-f872-56261d0f73fe"
      },
      "execution_count": 50,
      "outputs": [
        {
          "output_type": "execute_result",
          "data": {
            "text/plain": [
              "tensor([[15.6000],\n",
              "        [18.5000],\n",
              "        [13.5000],\n",
              "        [13.6000],\n",
              "        [16.0000],\n",
              "        [14.3500],\n",
              "        [12.0000],\n",
              "        [18.9000],\n",
              "        [17.0000],\n",
              "        [17.4000],\n",
              "        [16.0000]], grad_fn=<AddmmBackward0>)"
            ]
          },
          "metadata": {},
          "execution_count": 50
        }
      ]
    },
    {
      "cell_type": "markdown",
      "source": [
        "Inference"
      ],
      "metadata": {
        "id": "STFraHbcNu49"
      }
    },
    {
      "cell_type": "code",
      "source": [
        "model.eval()"
      ],
      "metadata": {
        "colab": {
          "base_uri": "https://localhost:8080/"
        },
        "id": "GrJOgXHHNrU-",
        "outputId": "3120e75d-80c5-4a8d-b231-642dda28b4a7"
      },
      "execution_count": 51,
      "outputs": [
        {
          "output_type": "execute_result",
          "data": {
            "text/plain": [
              "ANN(\n",
              "  (layers): Sequential(\n",
              "    (0): Linear(in_features=5, out_features=8, bias=True)\n",
              "    (1): ReLU()\n",
              "    (2): Linear(in_features=8, out_features=4, bias=True)\n",
              "    (3): ReLU()\n",
              "    (4): Linear(in_features=4, out_features=1, bias=True)\n",
              "  )\n",
              ")"
            ]
          },
          "metadata": {},
          "execution_count": 51
        }
      ]
    },
    {
      "cell_type": "code",
      "source": [
        "x_test = [[12,1,0,0,2],[5,1,1,1,0]]\n",
        "x_test = torch.tensor(x_test, dtype = torch.float32)"
      ],
      "metadata": {
        "id": "_OEc3PjoO60j"
      },
      "execution_count": 53,
      "outputs": []
    },
    {
      "cell_type": "code",
      "source": [
        "model(x_test)"
      ],
      "metadata": {
        "colab": {
          "base_uri": "https://localhost:8080/"
        },
        "id": "kniIruiGPNvh",
        "outputId": "251f6dde-b278-4d65-f0b5-6ea3601b45a6"
      },
      "execution_count": 54,
      "outputs": [
        {
          "output_type": "execute_result",
          "data": {
            "text/plain": [
              "tensor([[16.0707],\n",
              "        [19.4290]], grad_fn=<AddmmBackward0>)"
            ]
          },
          "metadata": {},
          "execution_count": 54
        }
      ]
    }
  ]
}